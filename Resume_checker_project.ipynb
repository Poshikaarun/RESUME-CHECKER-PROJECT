# ==============================
# 1. Install dependencies
# ==============================
!pip install --quiet openai pandas python-docx pypdf2 pdfplumber

# ==============================
# 2. Imports
# ==============================
import pandas as pd
import re
from docx import Document
from PyPDF2 import PdfReader
from google.colab import files, userdata
from openai import OpenAI

# ==============================
# 3. Get API Key (Secrets or Manual)
# ==============================
import getpass

try:
    api_key = userdata.get("OPENAI_API_KEY")
    print("✅ Using API key from Colab secrets.")
except Exception:
    print("⚠️ OPENAI_API_KEY not found in Colab secrets.")
    api_key = getpass.getpass("🔑 Please paste your OpenAI API key: ")

if not api_key:
    raise ValueError("❌ OpenAI API key is missing.")

# Convert to string and clean spaces/newlines
api_key = str(api_key).strip()

client = OpenAI(api_key=api_key)




# ==============================
# 4. Upload Job Description
# ==============================
print("\n📄 Please upload the Job Description (PDF only)...")
uploaded_jd = files.upload()

jd_filename = list(uploaded_jd.keys())[0]
job_description_text = ""

with open(jd_filename, "rb") as f:
    reader = PdfReader(f)
    for page in reader.pages:
        job_description_text += page.extract_text() + "\n"

print("\n✅ Job Description Uploaded:\n")
print(job_description_text[:1000])  # Display first 1000 chars

# ==============================
# 5. Upload Resume
# ==============================
print("\n📄 Please upload the Resume (PDF/DOCX only)...")
uploaded_resume = files.upload()

resume_filename = list(uploaded_resume.keys())[0]
resume_text = ""

if resume_filename.endswith(".pdf"):
    try:
        import pdfplumber
        with pdfplumber.open(resume_filename) as pdf:
            for page in pdf.pages:
                text = page.extract_text()
                if text:
                    resume_text += text + "\n"
    except Exception as e:
        print("⚠️ pdfplumber failed, trying PyPDF2 instead...")
        from PyPDF2 import PdfReader
        with open(resume_filename, "rb") as f:
            reader = PdfReader(f)
            for page in reader.pages:
                resume_text += page.extract_text() + "\n"
elif resume_filename.endswith(".docx"):
    doc = Document(resume_filename)
    for para in doc.paragraphs:
        resume_text += para.text + "\n"
else:
    raise ValueError("❌ Unsupported resume format. Please upload PDF or DOCX.")

if not resume_text.strip():
    raise ValueError("❌ Could not extract any text from resume. Try uploading another file.")


# ==============================
# 6. Analyze with OpenAI
# ==============================

prompt = f"""
You are a professional HR assistant.
Job Description:
{job_description_text}

Resume:
{resume_text}

Tasks:
1. Score the resume out of 10 based on job fit.
2. Extract applicant details: Name, Email, Phone, Skills, Education, Experience.
3. Provide a short feedback (2-3 lines).
Return only valid JSON, no explanations.
"""

response = client.chat.completions.create(
    model="gpt-4o-mini",
    messages=[{"role": "user", "content": prompt}],
    response_format={"type": "json_object"}  # ✅ Forces JSON
)

# Parse JSON safely
import json
result_text = response.choices[0].message.content
result_json = json.loads(result_text)   # ✅ guaranteed valid JSON

# ==============================
# 7. Display Results
# ==============================
print("\n📊 Resume Evaluation Result:\n")
for k, v in result_json.items():
    print(f"{k.capitalize()}: {v}")

# ==============================
# 7. Display Results
# ==============================
print("\n📊 Resume Evaluation Result:\n")
for k, v in result_json.items():
    print(f"{k.capitalize()}: {v}")


# ==============================
# 7. Display Results
# ==============================
print("\n📊 Resume Evaluation Result:\n")
for k, v in result_json.items():
    print(f"{k.capitalize()}: {v}")

# ==============================
# 8. Save to Excel
# ==============================
df = pd.DataFrame([result_json])
df.to_excel("response.xlsx", index=False)

print("\n✅ Results saved in 'response.xlsx'")
files.download("response.xlsx")
